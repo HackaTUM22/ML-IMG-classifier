{
  "nbformat": 4,
  "nbformat_minor": 0,
  "metadata": {
    "colab": {
      "provenance": []
    },
    "kernelspec": {
      "name": "python3",
      "display_name": "Python 3"
    },
    "language_info": {
      "name": "python"
    }
  },
  "cells": [
    {
      "cell_type": "code",
      "execution_count": 65,
      "metadata": {
        "colab": {
          "base_uri": "https://localhost:8080/"
        },
        "id": "csvxSSseuUp_",
        "outputId": "d621aa46-2f94-48c1-bbc5-89ad17fbb11b"
      },
      "outputs": [
        {
          "output_type": "stream",
          "name": "stdout",
          "text": [
            "Mounted at /content/drive\n"
          ]
        }
      ],
      "source": [
        "from google.colab import drive\n",
        "drive.mount('/content/drive',force_remount=True)"
      ]
    },
    {
      "cell_type": "code",
      "source": [
        "import pandas as pd\n",
        "import numpy as np\n",
        "import glob\n",
        "import torchvision\n",
        "import torch\n",
        "import os\n",
        "from skimage import io\n",
        "from torch.utils.data import Dataset, DataLoader\n",
        "from PIL import Image\n"
      ],
      "metadata": {
        "id": "7gsv5j7h9BaU"
      },
      "execution_count": 2,
      "outputs": []
    },
    {
      "cell_type": "code",
      "source": [
        "from torchvision.models import VGG16_Weights"
      ],
      "metadata": {
        "id": "a5SYCzPieZWh"
      },
      "execution_count": null,
      "outputs": []
    },
    {
      "cell_type": "markdown",
      "source": [
        "# READ DATA"
      ],
      "metadata": {
        "id": "dUxUFZZR8zkG"
      }
    },
    {
      "cell_type": "code",
      "source": [
        "# read label data to check for class balance and weighting\n",
        "trainpath =  '/content/drive/MyDrive/HackaTUM_Data/dataset/hackatum_dataset/train/*.jpg'\n",
        "testpath =  '/content/drive/MyDrive/HackaTUM_dataset/dataset/hackatum_dataset/val/*.jpg'\n",
        "\n",
        "trainpaths = glob.glob(trainpath)\n",
        "len(trainpaths)"
      ],
      "metadata": {
        "colab": {
          "base_uri": "https://localhost:8080/"
        },
        "id": "2OsqoMal86JW",
        "outputId": "ab182b4b-0e0b-4aa6-e370-bb0c05b230c8"
      },
      "execution_count": null,
      "outputs": [
        {
          "output_type": "execute_result",
          "data": {
            "text/plain": [
              "500"
            ]
          },
          "metadata": {},
          "execution_count": 71
        }
      ]
    },
    {
      "cell_type": "code",
      "source": [
        "# trainlabels = '/content/drive/MyDrive/HackaTUM_Data/dataset/hackatum_dataset/train/labels.csv'\n",
        "# testlabels = '/content/drive/MyDrive/HackaTUM_dataset/dataset/hackatum_dataset/val/labels.csv'\n",
        "# lbldf = pd.read_csv(trainlabels)\n",
        "# lbldf['label'] = (lbldf['highway'] == 'footway').astype(int)\n",
        "# display(lbldf.head())\n",
        "# mean = lbldf['label'].mean()\n",
        "# print(f'the rateo of the class one over the total is {mean} hence the dataset is balanced')"
      ],
      "metadata": {
        "id": "55TXOvesAwR4"
      },
      "execution_count": null,
      "outputs": []
    },
    {
      "cell_type": "code",
      "source": [
        "trainlabels = '/content/drive/MyDrive/HackaTUM_Data/dataset/hackatum_dataset/train/labels.csv'\n",
        "testlabels = '/content/drive/MyDrive/HackaTUM_Data/dataset/hackatum_dataset/val/labels.csv'\n",
        "# def trasform_lbldf(lbldf_path):\n",
        "#   lbldf = pd.read_csv(lbldf_path)\n",
        "#   lbldf['label'] = (lbldf['highway'] == 'footway').astype(int)\n",
        "#   lbldf = lbldf[['image_id','label']]\n",
        "#   lbldf.to_csv(lbldf_path,index=False)\n",
        "\n",
        "# trasform_lbldf(trainlabels)\n",
        "# trasform_lbldf(testlabels)"
      ],
      "metadata": {
        "id": "ltu1SFKZoFY9"
      },
      "execution_count": null,
      "outputs": []
    },
    {
      "cell_type": "code",
      "source": [
        "lbldf = pd.read_csv(trainlabels)\n",
        "display(lbldf.head(4))\n",
        "lbldf = pd.read_csv(testlabels)\n",
        "display(lbldf.head(4))"
      ],
      "metadata": {
        "colab": {
          "base_uri": "https://localhost:8080/",
          "height": 332
        },
        "id": "ED5X14yUotI7",
        "outputId": "828c8456-8232-4c24-cf50-af073f03acd7"
      },
      "execution_count": null,
      "outputs": [
        {
          "output_type": "display_data",
          "data": {
            "text/plain": [
              "          image_id  label\n",
              "0  102065035753324      1\n",
              "1  114536350969969      1\n",
              "2  119878327096719      1\n",
              "3  120800660045235      1"
            ],
            "text/html": [
              "\n",
              "  <div id=\"df-531c1d79-1b1e-42f9-9295-74b2515157a7\">\n",
              "    <div class=\"colab-df-container\">\n",
              "      <div>\n",
              "<style scoped>\n",
              "    .dataframe tbody tr th:only-of-type {\n",
              "        vertical-align: middle;\n",
              "    }\n",
              "\n",
              "    .dataframe tbody tr th {\n",
              "        vertical-align: top;\n",
              "    }\n",
              "\n",
              "    .dataframe thead th {\n",
              "        text-align: right;\n",
              "    }\n",
              "</style>\n",
              "<table border=\"1\" class=\"dataframe\">\n",
              "  <thead>\n",
              "    <tr style=\"text-align: right;\">\n",
              "      <th></th>\n",
              "      <th>image_id</th>\n",
              "      <th>label</th>\n",
              "    </tr>\n",
              "  </thead>\n",
              "  <tbody>\n",
              "    <tr>\n",
              "      <th>0</th>\n",
              "      <td>102065035753324</td>\n",
              "      <td>1</td>\n",
              "    </tr>\n",
              "    <tr>\n",
              "      <th>1</th>\n",
              "      <td>114536350969969</td>\n",
              "      <td>1</td>\n",
              "    </tr>\n",
              "    <tr>\n",
              "      <th>2</th>\n",
              "      <td>119878327096719</td>\n",
              "      <td>1</td>\n",
              "    </tr>\n",
              "    <tr>\n",
              "      <th>3</th>\n",
              "      <td>120800660045235</td>\n",
              "      <td>1</td>\n",
              "    </tr>\n",
              "  </tbody>\n",
              "</table>\n",
              "</div>\n",
              "      <button class=\"colab-df-convert\" onclick=\"convertToInteractive('df-531c1d79-1b1e-42f9-9295-74b2515157a7')\"\n",
              "              title=\"Convert this dataframe to an interactive table.\"\n",
              "              style=\"display:none;\">\n",
              "        \n",
              "  <svg xmlns=\"http://www.w3.org/2000/svg\" height=\"24px\"viewBox=\"0 0 24 24\"\n",
              "       width=\"24px\">\n",
              "    <path d=\"M0 0h24v24H0V0z\" fill=\"none\"/>\n",
              "    <path d=\"M18.56 5.44l.94 2.06.94-2.06 2.06-.94-2.06-.94-.94-2.06-.94 2.06-2.06.94zm-11 1L8.5 8.5l.94-2.06 2.06-.94-2.06-.94L8.5 2.5l-.94 2.06-2.06.94zm10 10l.94 2.06.94-2.06 2.06-.94-2.06-.94-.94-2.06-.94 2.06-2.06.94z\"/><path d=\"M17.41 7.96l-1.37-1.37c-.4-.4-.92-.59-1.43-.59-.52 0-1.04.2-1.43.59L10.3 9.45l-7.72 7.72c-.78.78-.78 2.05 0 2.83L4 21.41c.39.39.9.59 1.41.59.51 0 1.02-.2 1.41-.59l7.78-7.78 2.81-2.81c.8-.78.8-2.07 0-2.86zM5.41 20L4 18.59l7.72-7.72 1.47 1.35L5.41 20z\"/>\n",
              "  </svg>\n",
              "      </button>\n",
              "      \n",
              "  <style>\n",
              "    .colab-df-container {\n",
              "      display:flex;\n",
              "      flex-wrap:wrap;\n",
              "      gap: 12px;\n",
              "    }\n",
              "\n",
              "    .colab-df-convert {\n",
              "      background-color: #E8F0FE;\n",
              "      border: none;\n",
              "      border-radius: 50%;\n",
              "      cursor: pointer;\n",
              "      display: none;\n",
              "      fill: #1967D2;\n",
              "      height: 32px;\n",
              "      padding: 0 0 0 0;\n",
              "      width: 32px;\n",
              "    }\n",
              "\n",
              "    .colab-df-convert:hover {\n",
              "      background-color: #E2EBFA;\n",
              "      box-shadow: 0px 1px 2px rgba(60, 64, 67, 0.3), 0px 1px 3px 1px rgba(60, 64, 67, 0.15);\n",
              "      fill: #174EA6;\n",
              "    }\n",
              "\n",
              "    [theme=dark] .colab-df-convert {\n",
              "      background-color: #3B4455;\n",
              "      fill: #D2E3FC;\n",
              "    }\n",
              "\n",
              "    [theme=dark] .colab-df-convert:hover {\n",
              "      background-color: #434B5C;\n",
              "      box-shadow: 0px 1px 3px 1px rgba(0, 0, 0, 0.15);\n",
              "      filter: drop-shadow(0px 1px 2px rgba(0, 0, 0, 0.3));\n",
              "      fill: #FFFFFF;\n",
              "    }\n",
              "  </style>\n",
              "\n",
              "      <script>\n",
              "        const buttonEl =\n",
              "          document.querySelector('#df-531c1d79-1b1e-42f9-9295-74b2515157a7 button.colab-df-convert');\n",
              "        buttonEl.style.display =\n",
              "          google.colab.kernel.accessAllowed ? 'block' : 'none';\n",
              "\n",
              "        async function convertToInteractive(key) {\n",
              "          const element = document.querySelector('#df-531c1d79-1b1e-42f9-9295-74b2515157a7');\n",
              "          const dataTable =\n",
              "            await google.colab.kernel.invokeFunction('convertToInteractive',\n",
              "                                                     [key], {});\n",
              "          if (!dataTable) return;\n",
              "\n",
              "          const docLinkHtml = 'Like what you see? Visit the ' +\n",
              "            '<a target=\"_blank\" href=https://colab.research.google.com/notebooks/data_table.ipynb>data table notebook</a>'\n",
              "            + ' to learn more about interactive tables.';\n",
              "          element.innerHTML = '';\n",
              "          dataTable['output_type'] = 'display_data';\n",
              "          await google.colab.output.renderOutput(dataTable, element);\n",
              "          const docLink = document.createElement('div');\n",
              "          docLink.innerHTML = docLinkHtml;\n",
              "          element.appendChild(docLink);\n",
              "        }\n",
              "      </script>\n",
              "    </div>\n",
              "  </div>\n",
              "  "
            ]
          },
          "metadata": {}
        },
        {
          "output_type": "display_data",
          "data": {
            "text/plain": [
              "          image_id  label\n",
              "0  118033853940785      1\n",
              "1  142360954539412      0\n",
              "2  151552926945434      0\n",
              "3  152113683604813      1"
            ],
            "text/html": [
              "\n",
              "  <div id=\"df-a71c4df9-41d3-4d04-ab9d-77585675ddfb\">\n",
              "    <div class=\"colab-df-container\">\n",
              "      <div>\n",
              "<style scoped>\n",
              "    .dataframe tbody tr th:only-of-type {\n",
              "        vertical-align: middle;\n",
              "    }\n",
              "\n",
              "    .dataframe tbody tr th {\n",
              "        vertical-align: top;\n",
              "    }\n",
              "\n",
              "    .dataframe thead th {\n",
              "        text-align: right;\n",
              "    }\n",
              "</style>\n",
              "<table border=\"1\" class=\"dataframe\">\n",
              "  <thead>\n",
              "    <tr style=\"text-align: right;\">\n",
              "      <th></th>\n",
              "      <th>image_id</th>\n",
              "      <th>label</th>\n",
              "    </tr>\n",
              "  </thead>\n",
              "  <tbody>\n",
              "    <tr>\n",
              "      <th>0</th>\n",
              "      <td>118033853940785</td>\n",
              "      <td>1</td>\n",
              "    </tr>\n",
              "    <tr>\n",
              "      <th>1</th>\n",
              "      <td>142360954539412</td>\n",
              "      <td>0</td>\n",
              "    </tr>\n",
              "    <tr>\n",
              "      <th>2</th>\n",
              "      <td>151552926945434</td>\n",
              "      <td>0</td>\n",
              "    </tr>\n",
              "    <tr>\n",
              "      <th>3</th>\n",
              "      <td>152113683604813</td>\n",
              "      <td>1</td>\n",
              "    </tr>\n",
              "  </tbody>\n",
              "</table>\n",
              "</div>\n",
              "      <button class=\"colab-df-convert\" onclick=\"convertToInteractive('df-a71c4df9-41d3-4d04-ab9d-77585675ddfb')\"\n",
              "              title=\"Convert this dataframe to an interactive table.\"\n",
              "              style=\"display:none;\">\n",
              "        \n",
              "  <svg xmlns=\"http://www.w3.org/2000/svg\" height=\"24px\"viewBox=\"0 0 24 24\"\n",
              "       width=\"24px\">\n",
              "    <path d=\"M0 0h24v24H0V0z\" fill=\"none\"/>\n",
              "    <path d=\"M18.56 5.44l.94 2.06.94-2.06 2.06-.94-2.06-.94-.94-2.06-.94 2.06-2.06.94zm-11 1L8.5 8.5l.94-2.06 2.06-.94-2.06-.94L8.5 2.5l-.94 2.06-2.06.94zm10 10l.94 2.06.94-2.06 2.06-.94-2.06-.94-.94-2.06-.94 2.06-2.06.94z\"/><path d=\"M17.41 7.96l-1.37-1.37c-.4-.4-.92-.59-1.43-.59-.52 0-1.04.2-1.43.59L10.3 9.45l-7.72 7.72c-.78.78-.78 2.05 0 2.83L4 21.41c.39.39.9.59 1.41.59.51 0 1.02-.2 1.41-.59l7.78-7.78 2.81-2.81c.8-.78.8-2.07 0-2.86zM5.41 20L4 18.59l7.72-7.72 1.47 1.35L5.41 20z\"/>\n",
              "  </svg>\n",
              "      </button>\n",
              "      \n",
              "  <style>\n",
              "    .colab-df-container {\n",
              "      display:flex;\n",
              "      flex-wrap:wrap;\n",
              "      gap: 12px;\n",
              "    }\n",
              "\n",
              "    .colab-df-convert {\n",
              "      background-color: #E8F0FE;\n",
              "      border: none;\n",
              "      border-radius: 50%;\n",
              "      cursor: pointer;\n",
              "      display: none;\n",
              "      fill: #1967D2;\n",
              "      height: 32px;\n",
              "      padding: 0 0 0 0;\n",
              "      width: 32px;\n",
              "    }\n",
              "\n",
              "    .colab-df-convert:hover {\n",
              "      background-color: #E2EBFA;\n",
              "      box-shadow: 0px 1px 2px rgba(60, 64, 67, 0.3), 0px 1px 3px 1px rgba(60, 64, 67, 0.15);\n",
              "      fill: #174EA6;\n",
              "    }\n",
              "\n",
              "    [theme=dark] .colab-df-convert {\n",
              "      background-color: #3B4455;\n",
              "      fill: #D2E3FC;\n",
              "    }\n",
              "\n",
              "    [theme=dark] .colab-df-convert:hover {\n",
              "      background-color: #434B5C;\n",
              "      box-shadow: 0px 1px 3px 1px rgba(0, 0, 0, 0.15);\n",
              "      filter: drop-shadow(0px 1px 2px rgba(0, 0, 0, 0.3));\n",
              "      fill: #FFFFFF;\n",
              "    }\n",
              "  </style>\n",
              "\n",
              "      <script>\n",
              "        const buttonEl =\n",
              "          document.querySelector('#df-a71c4df9-41d3-4d04-ab9d-77585675ddfb button.colab-df-convert');\n",
              "        buttonEl.style.display =\n",
              "          google.colab.kernel.accessAllowed ? 'block' : 'none';\n",
              "\n",
              "        async function convertToInteractive(key) {\n",
              "          const element = document.querySelector('#df-a71c4df9-41d3-4d04-ab9d-77585675ddfb');\n",
              "          const dataTable =\n",
              "            await google.colab.kernel.invokeFunction('convertToInteractive',\n",
              "                                                     [key], {});\n",
              "          if (!dataTable) return;\n",
              "\n",
              "          const docLinkHtml = 'Like what you see? Visit the ' +\n",
              "            '<a target=\"_blank\" href=https://colab.research.google.com/notebooks/data_table.ipynb>data table notebook</a>'\n",
              "            + ' to learn more about interactive tables.';\n",
              "          element.innerHTML = '';\n",
              "          dataTable['output_type'] = 'display_data';\n",
              "          await google.colab.output.renderOutput(dataTable, element);\n",
              "          const docLink = document.createElement('div');\n",
              "          docLink.innerHTML = docLinkHtml;\n",
              "          element.appendChild(docLink);\n",
              "        }\n",
              "      </script>\n",
              "    </div>\n",
              "  </div>\n",
              "  "
            ]
          },
          "metadata": {}
        }
      ]
    },
    {
      "cell_type": "markdown",
      "source": [
        "#VGG"
      ],
      "metadata": {
        "id": "4MmcZi9f8scg"
      }
    },
    {
      "cell_type": "code",
      "source": [
        "class ImgDataset(Dataset):\n",
        "    \"\"\"Face Landmarks dataset.\"\"\"\n",
        "\n",
        "    def __init__(self, csv_file, root_dir, transform=None):\n",
        "        \"\"\"\n",
        "        Args:\n",
        "            csv_file (string): Path to the csv file with (img names, labels).\n",
        "            root_dir (string): Directory with all the images.\n",
        "            transform (callable, optional): Optional transform to be applied\n",
        "                on a sample.\n",
        "        \"\"\"\n",
        "        self.labels = pd.read_csv(csv_file, dtype=object)\n",
        "        self.root_dir = root_dir\n",
        "        self.transform = transform\n",
        "\n",
        "    def __len__(self):\n",
        "        return len(self.labels)\n",
        "\n",
        "    def __getitem__(self, idx):\n",
        "        if torch.is_tensor(idx):\n",
        "            idx = idx.tolist()\n",
        "\n",
        "        img_name = os.path.join(self.root_dir,\n",
        "                                self.labels.iloc[idx, 0]) + '.jpg'\n",
        "        image = io.imread(img_name)\n",
        "        if self.transform:\n",
        "          image = np.array(self.transform(Image.fromarray(image)))\n",
        "        label = self.labels.iloc[idx, 1]\n",
        "        sample = {'image': torch.tensor(image,dtype=torch.float), 'label': torch.tensor([int(label)],dtype=torch.float)}\n",
        "\n",
        "        return sample\n"
      ],
      "metadata": {
        "id": "DqYWBZmiJzRS"
      },
      "execution_count": null,
      "outputs": []
    },
    {
      "cell_type": "code",
      "source": [
        "# TAKE PRETRAINED MODEL\n",
        "from torchvision.models.vgg import vgg16\n",
        "weights = VGG16_Weights.DEFAULT\n",
        "model = vgg16(weights=weights)\n",
        "preprocess = weights.transforms()"
      ],
      "metadata": {
        "id": "PmimEaBrXcVH"
      },
      "execution_count": null,
      "outputs": []
    },
    {
      "cell_type": "code",
      "source": [
        "print(model)"
      ],
      "metadata": {
        "colab": {
          "base_uri": "https://localhost:8080/"
        },
        "id": "Z-Mpy3ccuXFf",
        "outputId": "08da473e-7cca-4ba1-b7fd-f56a20e58973"
      },
      "execution_count": null,
      "outputs": [
        {
          "output_type": "stream",
          "name": "stdout",
          "text": [
            "VGG(\n",
            "  (features): Sequential(\n",
            "    (0): Conv2d(3, 64, kernel_size=(3, 3), stride=(1, 1), padding=(1, 1))\n",
            "    (1): ReLU(inplace=True)\n",
            "    (2): Conv2d(64, 64, kernel_size=(3, 3), stride=(1, 1), padding=(1, 1))\n",
            "    (3): ReLU(inplace=True)\n",
            "    (4): MaxPool2d(kernel_size=2, stride=2, padding=0, dilation=1, ceil_mode=False)\n",
            "    (5): Conv2d(64, 128, kernel_size=(3, 3), stride=(1, 1), padding=(1, 1))\n",
            "    (6): ReLU(inplace=True)\n",
            "    (7): Conv2d(128, 128, kernel_size=(3, 3), stride=(1, 1), padding=(1, 1))\n",
            "    (8): ReLU(inplace=True)\n",
            "    (9): MaxPool2d(kernel_size=2, stride=2, padding=0, dilation=1, ceil_mode=False)\n",
            "    (10): Conv2d(128, 256, kernel_size=(3, 3), stride=(1, 1), padding=(1, 1))\n",
            "    (11): ReLU(inplace=True)\n",
            "    (12): Conv2d(256, 256, kernel_size=(3, 3), stride=(1, 1), padding=(1, 1))\n",
            "    (13): ReLU(inplace=True)\n",
            "    (14): Conv2d(256, 256, kernel_size=(3, 3), stride=(1, 1), padding=(1, 1))\n",
            "    (15): ReLU(inplace=True)\n",
            "    (16): MaxPool2d(kernel_size=2, stride=2, padding=0, dilation=1, ceil_mode=False)\n",
            "    (17): Conv2d(256, 512, kernel_size=(3, 3), stride=(1, 1), padding=(1, 1))\n",
            "    (18): ReLU(inplace=True)\n",
            "    (19): Conv2d(512, 512, kernel_size=(3, 3), stride=(1, 1), padding=(1, 1))\n",
            "    (20): ReLU(inplace=True)\n",
            "    (21): Conv2d(512, 512, kernel_size=(3, 3), stride=(1, 1), padding=(1, 1))\n",
            "    (22): ReLU(inplace=True)\n",
            "    (23): MaxPool2d(kernel_size=2, stride=2, padding=0, dilation=1, ceil_mode=False)\n",
            "    (24): Conv2d(512, 512, kernel_size=(3, 3), stride=(1, 1), padding=(1, 1))\n",
            "    (25): ReLU(inplace=True)\n",
            "    (26): Conv2d(512, 512, kernel_size=(3, 3), stride=(1, 1), padding=(1, 1))\n",
            "    (27): ReLU(inplace=True)\n",
            "    (28): Conv2d(512, 512, kernel_size=(3, 3), stride=(1, 1), padding=(1, 1))\n",
            "    (29): ReLU(inplace=True)\n",
            "    (30): MaxPool2d(kernel_size=2, stride=2, padding=0, dilation=1, ceil_mode=False)\n",
            "  )\n",
            "  (avgpool): AdaptiveAvgPool2d(output_size=(7, 7))\n",
            "  (classifier): Sequential(\n",
            "    (0): Linear(in_features=25088, out_features=4096, bias=True)\n",
            "    (1): ReLU(inplace=True)\n",
            "    (2): Dropout(p=0.5, inplace=False)\n",
            "    (3): Linear(in_features=4096, out_features=4096, bias=True)\n",
            "    (4): ReLU(inplace=True)\n",
            "    (5): Dropout(p=0.5, inplace=False)\n",
            "    (6): Linear(in_features=4096, out_features=1000, bias=True)\n",
            "  )\n",
            ")\n"
          ]
        }
      ]
    },
    {
      "cell_type": "code",
      "source": [
        "# MODIFY MODEL TO FIT OUR DATA\n",
        "model.classifier = torch.nn.Sequential(\n",
        "    torch.nn.Linear(in_features=25088, out_features=4096, bias=True),\n",
        "    torch.nn.ReLU(inplace=True),\n",
        "    torch.nn.Dropout(p=0.5, inplace=False),\n",
        "    torch.nn.Linear(in_features=4096, out_features=4096, bias=True),\n",
        "    torch.nn.ReLU(inplace=True),\n",
        "    torch.nn.Dropout(p=0.5, inplace=False),\n",
        "    torch.nn.Linear(in_features=4096, out_features=1, bias=True)\n",
        ")"
      ],
      "metadata": {
        "id": "ielPKkNnbzyx"
      },
      "execution_count": null,
      "outputs": []
    },
    {
      "cell_type": "code",
      "source": [
        "preprocess"
      ],
      "metadata": {
        "colab": {
          "base_uri": "https://localhost:8080/"
        },
        "id": "I2-xZiz9YHOH",
        "outputId": "ba643619-70e4-4fcb-c727-9fe15f977900"
      },
      "execution_count": null,
      "outputs": [
        {
          "output_type": "execute_result",
          "data": {
            "text/plain": [
              "ImageClassification(\n",
              "    crop_size=[224]\n",
              "    resize_size=[256]\n",
              "    mean=[0.485, 0.456, 0.406]\n",
              "    std=[0.229, 0.224, 0.225]\n",
              "    interpolation=InterpolationMode.BILINEAR\n",
              ")"
            ]
          },
          "metadata": {},
          "execution_count": 63
        }
      ]
    },
    {
      "cell_type": "code",
      "source": [
        "#Loaders\n",
        "traindataset = ImgDataset(trainlabels,'/content/drive/MyDrive/HackaTUM_Data/dataset/hackatum_dataset/train',transform = preprocess)\n",
        "trainloader = DataLoader(dataset = traindataset, batch_size = 4)\n",
        "testdataset = ImgDataset(testlabels,'/content/drive/MyDrive/HackaTUM_Data/dataset/hackatum_dataset/val',transform = preprocess)\n",
        "testloader  = DataLoader(dataset = testdataset, batch_size = 4)"
      ],
      "metadata": {
        "id": "RvUV-J_Fi6Ab"
      },
      "execution_count": null,
      "outputs": []
    },
    {
      "cell_type": "code",
      "source": [
        "# Hyperparams\n",
        "learning_rate = 1e-3\n",
        "n_epochs = 5\n",
        "batch_size = 10\n",
        "num_classes = 2\n",
        "device = torch.device('cuda' if torch.cuda.is_available() else 'cpu')\n",
        "\n",
        "# Loss and optimizers\n",
        "criterion = torch.nn.BCELoss()\n",
        "optimizer = torch.optim.Adam(model.parameters(),lr = learning_rate)\n",
        "\n",
        "#TRAIN\n",
        "def train(model, optimizer, criterion, dataloader):\n",
        "    #accumulated loss across epochs\n",
        "    acc_loss = 0\n",
        "    for batch_idx, datas in enumerate(dataloader):\n",
        "      data = datas['image']\n",
        "      labels = datas['label']\n",
        "      print(data.shape)\n",
        "\n",
        "\n",
        "      data = data.to(device = device)\n",
        "      labels = labels.to(device = device)\n",
        "      pred = torch.nn.functional.sigmoid(model(data))\n",
        "      loss = criterion(pred,labels)\n",
        "      acc_loss += loss.item()\n",
        "\n",
        "      optimizer.zero_grad()\n",
        "      loss.backward()\n",
        "\n",
        "      optimizer.step()\n",
        "    return losses\n",
        "      \n",
        "#TEST\n",
        "def test(model,criterion, dataloader):\n",
        "    #accumulated loss across epochs\n",
        "    acc_loss = 0\n",
        "    model.eval()\n",
        "    with torch.no_grad():\n",
        "      for batch_idx, datas in enumerate(dataloader):\n",
        "        data = datas['image']\n",
        "        labels = datas['label']\n",
        "        pred = torch.nn.functional.sigmoid(model(input))\n",
        "        loss = criterion(data, labels)\n",
        "        acc_loss += loss.item()\n",
        "    \n",
        "    return loss"
      ],
      "metadata": {
        "id": "8HKpaaXSNKSc"
      },
      "execution_count": null,
      "outputs": []
    },
    {
      "cell_type": "code",
      "source": [
        "for epoch in range(1, n_epochs + 1):\n",
        "    print(f'epoch {epoch}: ')\n",
        "    print('trainloss: ', train(model, optimizer, criterion, trainloader))\n",
        "    print('testloss: ',test(model, criterion, testloader))"
      ],
      "metadata": {
        "colab": {
          "base_uri": "https://localhost:8080/",
          "height": 560
        },
        "id": "AlwiC7j_OQCM",
        "outputId": "e7e8095a-954c-4e98-86b0-ce183425de75"
      },
      "execution_count": null,
      "outputs": [
        {
          "output_type": "stream",
          "name": "stdout",
          "text": [
            "epoch 1: \n",
            "torch.Size([4, 3, 224, 224])\n",
            "torch.Size([4, 3, 224, 224])\n",
            "torch.Size([4, 3, 224, 224])\n",
            "torch.Size([4, 3, 224, 224])\n",
            "torch.Size([4, 3, 224, 224])\n",
            "torch.Size([4, 3, 224, 224])\n"
          ]
        },
        {
          "output_type": "error",
          "ename": "KeyboardInterrupt",
          "evalue": "ignored",
          "traceback": [
            "\u001b[0;31m---------------------------------------------------------------------------\u001b[0m",
            "\u001b[0;31mKeyboardInterrupt\u001b[0m                         Traceback (most recent call last)",
            "\u001b[0;32m<ipython-input-70-453de6dd8323>\u001b[0m in \u001b[0;36m<module>\u001b[0;34m\u001b[0m\n\u001b[1;32m      1\u001b[0m \u001b[0;32mfor\u001b[0m \u001b[0mepoch\u001b[0m \u001b[0;32min\u001b[0m \u001b[0mrange\u001b[0m\u001b[0;34m(\u001b[0m\u001b[0;36m1\u001b[0m\u001b[0;34m,\u001b[0m \u001b[0mn_epochs\u001b[0m \u001b[0;34m+\u001b[0m \u001b[0;36m1\u001b[0m\u001b[0;34m)\u001b[0m\u001b[0;34m:\u001b[0m\u001b[0;34m\u001b[0m\u001b[0;34m\u001b[0m\u001b[0m\n\u001b[1;32m      2\u001b[0m     \u001b[0mprint\u001b[0m\u001b[0;34m(\u001b[0m\u001b[0;34mf'epoch {epoch}: '\u001b[0m\u001b[0;34m)\u001b[0m\u001b[0;34m\u001b[0m\u001b[0;34m\u001b[0m\u001b[0m\n\u001b[0;32m----> 3\u001b[0;31m     \u001b[0mprint\u001b[0m\u001b[0;34m(\u001b[0m\u001b[0;34m'trainloss: '\u001b[0m\u001b[0;34m,\u001b[0m \u001b[0mtrain\u001b[0m\u001b[0;34m(\u001b[0m\u001b[0mmodel\u001b[0m\u001b[0;34m,\u001b[0m \u001b[0moptimizer\u001b[0m\u001b[0;34m,\u001b[0m \u001b[0mcriterion\u001b[0m\u001b[0;34m,\u001b[0m \u001b[0mtrainloader\u001b[0m\u001b[0;34m)\u001b[0m\u001b[0;34m)\u001b[0m\u001b[0;34m\u001b[0m\u001b[0;34m\u001b[0m\u001b[0m\n\u001b[0m\u001b[1;32m      4\u001b[0m     \u001b[0mprint\u001b[0m\u001b[0;34m(\u001b[0m\u001b[0;34m'testloss: '\u001b[0m\u001b[0;34m,\u001b[0m\u001b[0mtest\u001b[0m\u001b[0;34m(\u001b[0m\u001b[0mmodel\u001b[0m\u001b[0;34m,\u001b[0m \u001b[0mcriterion\u001b[0m\u001b[0;34m,\u001b[0m \u001b[0mtestloader\u001b[0m\u001b[0;34m)\u001b[0m\u001b[0;34m)\u001b[0m\u001b[0;34m\u001b[0m\u001b[0;34m\u001b[0m\u001b[0m\n",
            "\u001b[0;32m<ipython-input-69-b8cc53c55c82>\u001b[0m in \u001b[0;36mtrain\u001b[0;34m(model, optimizer, criterion, dataloader)\u001b[0m\n\u001b[1;32m     28\u001b[0m \u001b[0;34m\u001b[0m\u001b[0m\n\u001b[1;32m     29\u001b[0m       \u001b[0moptimizer\u001b[0m\u001b[0;34m.\u001b[0m\u001b[0mzero_grad\u001b[0m\u001b[0;34m(\u001b[0m\u001b[0;34m)\u001b[0m\u001b[0;34m\u001b[0m\u001b[0;34m\u001b[0m\u001b[0m\n\u001b[0;32m---> 30\u001b[0;31m       \u001b[0mloss\u001b[0m\u001b[0;34m.\u001b[0m\u001b[0mbackward\u001b[0m\u001b[0;34m(\u001b[0m\u001b[0;34m)\u001b[0m\u001b[0;34m\u001b[0m\u001b[0;34m\u001b[0m\u001b[0m\n\u001b[0m\u001b[1;32m     31\u001b[0m \u001b[0;34m\u001b[0m\u001b[0m\n\u001b[1;32m     32\u001b[0m       \u001b[0moptimizer\u001b[0m\u001b[0;34m.\u001b[0m\u001b[0mstep\u001b[0m\u001b[0;34m(\u001b[0m\u001b[0;34m)\u001b[0m\u001b[0;34m\u001b[0m\u001b[0;34m\u001b[0m\u001b[0m\n",
            "\u001b[0;32m/usr/local/lib/python3.7/dist-packages/torch/_tensor.py\u001b[0m in \u001b[0;36mbackward\u001b[0;34m(self, gradient, retain_graph, create_graph, inputs)\u001b[0m\n\u001b[1;32m    394\u001b[0m                 \u001b[0mcreate_graph\u001b[0m\u001b[0;34m=\u001b[0m\u001b[0mcreate_graph\u001b[0m\u001b[0;34m,\u001b[0m\u001b[0;34m\u001b[0m\u001b[0;34m\u001b[0m\u001b[0m\n\u001b[1;32m    395\u001b[0m                 inputs=inputs)\n\u001b[0;32m--> 396\u001b[0;31m         \u001b[0mtorch\u001b[0m\u001b[0;34m.\u001b[0m\u001b[0mautograd\u001b[0m\u001b[0;34m.\u001b[0m\u001b[0mbackward\u001b[0m\u001b[0;34m(\u001b[0m\u001b[0mself\u001b[0m\u001b[0;34m,\u001b[0m \u001b[0mgradient\u001b[0m\u001b[0;34m,\u001b[0m \u001b[0mretain_graph\u001b[0m\u001b[0;34m,\u001b[0m \u001b[0mcreate_graph\u001b[0m\u001b[0;34m,\u001b[0m \u001b[0minputs\u001b[0m\u001b[0;34m=\u001b[0m\u001b[0minputs\u001b[0m\u001b[0;34m)\u001b[0m\u001b[0;34m\u001b[0m\u001b[0;34m\u001b[0m\u001b[0m\n\u001b[0m\u001b[1;32m    397\u001b[0m \u001b[0;34m\u001b[0m\u001b[0m\n\u001b[1;32m    398\u001b[0m     \u001b[0;32mdef\u001b[0m \u001b[0mregister_hook\u001b[0m\u001b[0;34m(\u001b[0m\u001b[0mself\u001b[0m\u001b[0;34m,\u001b[0m \u001b[0mhook\u001b[0m\u001b[0;34m)\u001b[0m\u001b[0;34m:\u001b[0m\u001b[0;34m\u001b[0m\u001b[0;34m\u001b[0m\u001b[0m\n",
            "\u001b[0;32m/usr/local/lib/python3.7/dist-packages/torch/autograd/__init__.py\u001b[0m in \u001b[0;36mbackward\u001b[0;34m(tensors, grad_tensors, retain_graph, create_graph, grad_variables, inputs)\u001b[0m\n\u001b[1;32m    173\u001b[0m     Variable._execution_engine.run_backward(  # Calls into the C++ engine to run the backward pass\n\u001b[1;32m    174\u001b[0m         \u001b[0mtensors\u001b[0m\u001b[0;34m,\u001b[0m \u001b[0mgrad_tensors_\u001b[0m\u001b[0;34m,\u001b[0m \u001b[0mretain_graph\u001b[0m\u001b[0;34m,\u001b[0m \u001b[0mcreate_graph\u001b[0m\u001b[0;34m,\u001b[0m \u001b[0minputs\u001b[0m\u001b[0;34m,\u001b[0m\u001b[0;34m\u001b[0m\u001b[0;34m\u001b[0m\u001b[0m\n\u001b[0;32m--> 175\u001b[0;31m         allow_unreachable=True, accumulate_grad=True)  # Calls into the C++ engine to run the backward pass\n\u001b[0m\u001b[1;32m    176\u001b[0m \u001b[0;34m\u001b[0m\u001b[0m\n\u001b[1;32m    177\u001b[0m def grad(\n",
            "\u001b[0;31mKeyboardInterrupt\u001b[0m: "
          ]
        }
      ]
    },
    {
      "cell_type": "markdown",
      "source": [
        "DISTANCES: implementation of some back-hand of the app. Some syntetic data is generated (eg: users positions). Additionally we see the API server functions first implementation, you can find more details in the server repo. "
      ],
      "metadata": {
        "id": "0Z6GPY4d9kYV"
      }
    },
    {
      "cell_type": "code",
      "source": [
        "import matplotlib.pyplot as plt\n",
        "\n",
        "issuePath = '/content/drive/MyDrive/HackaTUM_Data/dataset/hackatum_dataset/issues/issues.csv'\n",
        "df = pd.read_csv(issuePath)\n",
        "df['taskID'] = df.index\n",
        "\n",
        "display(df)\n",
        "df = df[['longitude','latitude']]\n",
        "xmax = df['longitude'].max()\n",
        "xmin = df['longitude'].min()\n",
        "ymax = df['latitude'].max()\n",
        "ymin = df['latitude'].min()\n",
        "#generate 30 random users\n",
        "N_users = 30\n",
        "userIds = np.array(range(N_users))\n",
        "xusers = np.random.uniform(low=xmin, high=xmax, size=N_users)\n",
        "yusers = np.random.uniform(low=ymin, high=ymax, size=N_users)\n",
        "\n",
        "#pd.DataFrame({'id':userIds, 'x':xusers, 'y':yusers}).to_csv('/content/drive/MyDrive/HackaTUM_Data/dataset/hackatum_dataset/issues/users.csv', index = False) \n",
        "\n",
        "plt.scatter(xusers, yusers,label = 'users',color = 'red')\n",
        "xtasks = df['longitude'].values\n",
        "ytasks = df['latitude'].values\n",
        "plt.scatter(xtasks, ytasks,label = 'targets',color = 'blue')\n",
        "\n",
        "plt.legend()\n",
        "plt.show()"
      ],
      "metadata": {
        "colab": {
          "base_uri": "https://localhost:8080/",
          "height": 1000
        },
        "id": "l2EHDGfs9mQJ",
        "outputId": "3317c07e-ff4a-45c3-e399-905a1044b9f7"
      },
      "execution_count": null,
      "outputs": [
        {
          "output_type": "display_data",
          "data": {
            "text/plain": [
              "            image_id  longitude   latitude  osm_way_id  highway  taskID\n",
              "0    173529288004582  11.614302  48.111356   154359841  footway       0\n",
              "1    187098909929555  11.606248  48.175666    38690109  footway       1\n",
              "2    216283226982432  11.633299  48.135693   460354029  footway       2\n",
              "3    269290068323331  11.588134  48.176530   259583217  footway       3\n",
              "4    305399287917735  11.570784  48.149121   122159109  primary       4\n",
              "5    308707770748550  11.606785  48.176076    38690109  primary       5\n",
              "6    310698823750341  11.580631  48.106241   362796882  footway       6\n",
              "7    315970676772352  11.613351  48.130467   122002285  footway       7\n",
              "8    334213504878448  11.622674  48.161634    38926857  primary       8\n",
              "9    387616345626796  11.608646  48.172421    99663070  primary       9\n",
              "10   432081875138552  11.547805  48.112917   173096616  footway      10\n",
              "11   486527229463839  11.623792  48.162655   100945239  footway      11\n",
              "12   497792407930066  11.619003  48.118032    49915865  footway      12\n",
              "13   507005454009469  11.606740  48.176048    38690109  primary      13\n",
              "14   518223702859508  11.620461  48.121773   292781203  primary      14\n",
              "15   532051091386866  11.615932  48.112905    32256065  primary      15\n",
              "16   568493717757567  11.618181  48.119255    27334574  footway      16\n",
              "17   677806630089122  11.616833  48.168817    38123963  primary      17\n",
              "18   742794133052728  11.587309  48.104692    40108148  primary      18\n",
              "19   796584247628919  11.603696  48.172087    38690109  footway      19\n",
              "20   811604529752448  11.615292  48.112113    37666015  primary      20\n",
              "21   821061125222211  11.525206  48.148686    54200279  primary      21\n",
              "22   824423578448957  11.601411  48.171797   159686837  primary      22\n",
              "23   827676088105008  11.549527  48.160895    90165750  footway      23\n",
              "24   877953149735095  11.618987  48.118353   230251455  primary      24\n",
              "25   927816371125415  11.624135  48.163023   467655365  footway      25\n",
              "26   952367918873603  11.541217  48.100898   262486709  footway      26\n",
              "27  1998769373606723  11.617648  48.115033   311181487  footway      27\n",
              "28  2096254440714769  11.613107  48.172990    37208105  primary      28\n",
              "29  2947015848899610  11.527966  48.147748    54200280  footway      29"
            ],
            "text/html": [
              "\n",
              "  <div id=\"df-cab5a004-1370-424d-984c-245cfe024574\">\n",
              "    <div class=\"colab-df-container\">\n",
              "      <div>\n",
              "<style scoped>\n",
              "    .dataframe tbody tr th:only-of-type {\n",
              "        vertical-align: middle;\n",
              "    }\n",
              "\n",
              "    .dataframe tbody tr th {\n",
              "        vertical-align: top;\n",
              "    }\n",
              "\n",
              "    .dataframe thead th {\n",
              "        text-align: right;\n",
              "    }\n",
              "</style>\n",
              "<table border=\"1\" class=\"dataframe\">\n",
              "  <thead>\n",
              "    <tr style=\"text-align: right;\">\n",
              "      <th></th>\n",
              "      <th>image_id</th>\n",
              "      <th>longitude</th>\n",
              "      <th>latitude</th>\n",
              "      <th>osm_way_id</th>\n",
              "      <th>highway</th>\n",
              "      <th>taskID</th>\n",
              "    </tr>\n",
              "  </thead>\n",
              "  <tbody>\n",
              "    <tr>\n",
              "      <th>0</th>\n",
              "      <td>173529288004582</td>\n",
              "      <td>11.614302</td>\n",
              "      <td>48.111356</td>\n",
              "      <td>154359841</td>\n",
              "      <td>footway</td>\n",
              "      <td>0</td>\n",
              "    </tr>\n",
              "    <tr>\n",
              "      <th>1</th>\n",
              "      <td>187098909929555</td>\n",
              "      <td>11.606248</td>\n",
              "      <td>48.175666</td>\n",
              "      <td>38690109</td>\n",
              "      <td>footway</td>\n",
              "      <td>1</td>\n",
              "    </tr>\n",
              "    <tr>\n",
              "      <th>2</th>\n",
              "      <td>216283226982432</td>\n",
              "      <td>11.633299</td>\n",
              "      <td>48.135693</td>\n",
              "      <td>460354029</td>\n",
              "      <td>footway</td>\n",
              "      <td>2</td>\n",
              "    </tr>\n",
              "    <tr>\n",
              "      <th>3</th>\n",
              "      <td>269290068323331</td>\n",
              "      <td>11.588134</td>\n",
              "      <td>48.176530</td>\n",
              "      <td>259583217</td>\n",
              "      <td>footway</td>\n",
              "      <td>3</td>\n",
              "    </tr>\n",
              "    <tr>\n",
              "      <th>4</th>\n",
              "      <td>305399287917735</td>\n",
              "      <td>11.570784</td>\n",
              "      <td>48.149121</td>\n",
              "      <td>122159109</td>\n",
              "      <td>primary</td>\n",
              "      <td>4</td>\n",
              "    </tr>\n",
              "    <tr>\n",
              "      <th>5</th>\n",
              "      <td>308707770748550</td>\n",
              "      <td>11.606785</td>\n",
              "      <td>48.176076</td>\n",
              "      <td>38690109</td>\n",
              "      <td>primary</td>\n",
              "      <td>5</td>\n",
              "    </tr>\n",
              "    <tr>\n",
              "      <th>6</th>\n",
              "      <td>310698823750341</td>\n",
              "      <td>11.580631</td>\n",
              "      <td>48.106241</td>\n",
              "      <td>362796882</td>\n",
              "      <td>footway</td>\n",
              "      <td>6</td>\n",
              "    </tr>\n",
              "    <tr>\n",
              "      <th>7</th>\n",
              "      <td>315970676772352</td>\n",
              "      <td>11.613351</td>\n",
              "      <td>48.130467</td>\n",
              "      <td>122002285</td>\n",
              "      <td>footway</td>\n",
              "      <td>7</td>\n",
              "    </tr>\n",
              "    <tr>\n",
              "      <th>8</th>\n",
              "      <td>334213504878448</td>\n",
              "      <td>11.622674</td>\n",
              "      <td>48.161634</td>\n",
              "      <td>38926857</td>\n",
              "      <td>primary</td>\n",
              "      <td>8</td>\n",
              "    </tr>\n",
              "    <tr>\n",
              "      <th>9</th>\n",
              "      <td>387616345626796</td>\n",
              "      <td>11.608646</td>\n",
              "      <td>48.172421</td>\n",
              "      <td>99663070</td>\n",
              "      <td>primary</td>\n",
              "      <td>9</td>\n",
              "    </tr>\n",
              "    <tr>\n",
              "      <th>10</th>\n",
              "      <td>432081875138552</td>\n",
              "      <td>11.547805</td>\n",
              "      <td>48.112917</td>\n",
              "      <td>173096616</td>\n",
              "      <td>footway</td>\n",
              "      <td>10</td>\n",
              "    </tr>\n",
              "    <tr>\n",
              "      <th>11</th>\n",
              "      <td>486527229463839</td>\n",
              "      <td>11.623792</td>\n",
              "      <td>48.162655</td>\n",
              "      <td>100945239</td>\n",
              "      <td>footway</td>\n",
              "      <td>11</td>\n",
              "    </tr>\n",
              "    <tr>\n",
              "      <th>12</th>\n",
              "      <td>497792407930066</td>\n",
              "      <td>11.619003</td>\n",
              "      <td>48.118032</td>\n",
              "      <td>49915865</td>\n",
              "      <td>footway</td>\n",
              "      <td>12</td>\n",
              "    </tr>\n",
              "    <tr>\n",
              "      <th>13</th>\n",
              "      <td>507005454009469</td>\n",
              "      <td>11.606740</td>\n",
              "      <td>48.176048</td>\n",
              "      <td>38690109</td>\n",
              "      <td>primary</td>\n",
              "      <td>13</td>\n",
              "    </tr>\n",
              "    <tr>\n",
              "      <th>14</th>\n",
              "      <td>518223702859508</td>\n",
              "      <td>11.620461</td>\n",
              "      <td>48.121773</td>\n",
              "      <td>292781203</td>\n",
              "      <td>primary</td>\n",
              "      <td>14</td>\n",
              "    </tr>\n",
              "    <tr>\n",
              "      <th>15</th>\n",
              "      <td>532051091386866</td>\n",
              "      <td>11.615932</td>\n",
              "      <td>48.112905</td>\n",
              "      <td>32256065</td>\n",
              "      <td>primary</td>\n",
              "      <td>15</td>\n",
              "    </tr>\n",
              "    <tr>\n",
              "      <th>16</th>\n",
              "      <td>568493717757567</td>\n",
              "      <td>11.618181</td>\n",
              "      <td>48.119255</td>\n",
              "      <td>27334574</td>\n",
              "      <td>footway</td>\n",
              "      <td>16</td>\n",
              "    </tr>\n",
              "    <tr>\n",
              "      <th>17</th>\n",
              "      <td>677806630089122</td>\n",
              "      <td>11.616833</td>\n",
              "      <td>48.168817</td>\n",
              "      <td>38123963</td>\n",
              "      <td>primary</td>\n",
              "      <td>17</td>\n",
              "    </tr>\n",
              "    <tr>\n",
              "      <th>18</th>\n",
              "      <td>742794133052728</td>\n",
              "      <td>11.587309</td>\n",
              "      <td>48.104692</td>\n",
              "      <td>40108148</td>\n",
              "      <td>primary</td>\n",
              "      <td>18</td>\n",
              "    </tr>\n",
              "    <tr>\n",
              "      <th>19</th>\n",
              "      <td>796584247628919</td>\n",
              "      <td>11.603696</td>\n",
              "      <td>48.172087</td>\n",
              "      <td>38690109</td>\n",
              "      <td>footway</td>\n",
              "      <td>19</td>\n",
              "    </tr>\n",
              "    <tr>\n",
              "      <th>20</th>\n",
              "      <td>811604529752448</td>\n",
              "      <td>11.615292</td>\n",
              "      <td>48.112113</td>\n",
              "      <td>37666015</td>\n",
              "      <td>primary</td>\n",
              "      <td>20</td>\n",
              "    </tr>\n",
              "    <tr>\n",
              "      <th>21</th>\n",
              "      <td>821061125222211</td>\n",
              "      <td>11.525206</td>\n",
              "      <td>48.148686</td>\n",
              "      <td>54200279</td>\n",
              "      <td>primary</td>\n",
              "      <td>21</td>\n",
              "    </tr>\n",
              "    <tr>\n",
              "      <th>22</th>\n",
              "      <td>824423578448957</td>\n",
              "      <td>11.601411</td>\n",
              "      <td>48.171797</td>\n",
              "      <td>159686837</td>\n",
              "      <td>primary</td>\n",
              "      <td>22</td>\n",
              "    </tr>\n",
              "    <tr>\n",
              "      <th>23</th>\n",
              "      <td>827676088105008</td>\n",
              "      <td>11.549527</td>\n",
              "      <td>48.160895</td>\n",
              "      <td>90165750</td>\n",
              "      <td>footway</td>\n",
              "      <td>23</td>\n",
              "    </tr>\n",
              "    <tr>\n",
              "      <th>24</th>\n",
              "      <td>877953149735095</td>\n",
              "      <td>11.618987</td>\n",
              "      <td>48.118353</td>\n",
              "      <td>230251455</td>\n",
              "      <td>primary</td>\n",
              "      <td>24</td>\n",
              "    </tr>\n",
              "    <tr>\n",
              "      <th>25</th>\n",
              "      <td>927816371125415</td>\n",
              "      <td>11.624135</td>\n",
              "      <td>48.163023</td>\n",
              "      <td>467655365</td>\n",
              "      <td>footway</td>\n",
              "      <td>25</td>\n",
              "    </tr>\n",
              "    <tr>\n",
              "      <th>26</th>\n",
              "      <td>952367918873603</td>\n",
              "      <td>11.541217</td>\n",
              "      <td>48.100898</td>\n",
              "      <td>262486709</td>\n",
              "      <td>footway</td>\n",
              "      <td>26</td>\n",
              "    </tr>\n",
              "    <tr>\n",
              "      <th>27</th>\n",
              "      <td>1998769373606723</td>\n",
              "      <td>11.617648</td>\n",
              "      <td>48.115033</td>\n",
              "      <td>311181487</td>\n",
              "      <td>footway</td>\n",
              "      <td>27</td>\n",
              "    </tr>\n",
              "    <tr>\n",
              "      <th>28</th>\n",
              "      <td>2096254440714769</td>\n",
              "      <td>11.613107</td>\n",
              "      <td>48.172990</td>\n",
              "      <td>37208105</td>\n",
              "      <td>primary</td>\n",
              "      <td>28</td>\n",
              "    </tr>\n",
              "    <tr>\n",
              "      <th>29</th>\n",
              "      <td>2947015848899610</td>\n",
              "      <td>11.527966</td>\n",
              "      <td>48.147748</td>\n",
              "      <td>54200280</td>\n",
              "      <td>footway</td>\n",
              "      <td>29</td>\n",
              "    </tr>\n",
              "  </tbody>\n",
              "</table>\n",
              "</div>\n",
              "      <button class=\"colab-df-convert\" onclick=\"convertToInteractive('df-cab5a004-1370-424d-984c-245cfe024574')\"\n",
              "              title=\"Convert this dataframe to an interactive table.\"\n",
              "              style=\"display:none;\">\n",
              "        \n",
              "  <svg xmlns=\"http://www.w3.org/2000/svg\" height=\"24px\"viewBox=\"0 0 24 24\"\n",
              "       width=\"24px\">\n",
              "    <path d=\"M0 0h24v24H0V0z\" fill=\"none\"/>\n",
              "    <path d=\"M18.56 5.44l.94 2.06.94-2.06 2.06-.94-2.06-.94-.94-2.06-.94 2.06-2.06.94zm-11 1L8.5 8.5l.94-2.06 2.06-.94-2.06-.94L8.5 2.5l-.94 2.06-2.06.94zm10 10l.94 2.06.94-2.06 2.06-.94-2.06-.94-.94-2.06-.94 2.06-2.06.94z\"/><path d=\"M17.41 7.96l-1.37-1.37c-.4-.4-.92-.59-1.43-.59-.52 0-1.04.2-1.43.59L10.3 9.45l-7.72 7.72c-.78.78-.78 2.05 0 2.83L4 21.41c.39.39.9.59 1.41.59.51 0 1.02-.2 1.41-.59l7.78-7.78 2.81-2.81c.8-.78.8-2.07 0-2.86zM5.41 20L4 18.59l7.72-7.72 1.47 1.35L5.41 20z\"/>\n",
              "  </svg>\n",
              "      </button>\n",
              "      \n",
              "  <style>\n",
              "    .colab-df-container {\n",
              "      display:flex;\n",
              "      flex-wrap:wrap;\n",
              "      gap: 12px;\n",
              "    }\n",
              "\n",
              "    .colab-df-convert {\n",
              "      background-color: #E8F0FE;\n",
              "      border: none;\n",
              "      border-radius: 50%;\n",
              "      cursor: pointer;\n",
              "      display: none;\n",
              "      fill: #1967D2;\n",
              "      height: 32px;\n",
              "      padding: 0 0 0 0;\n",
              "      width: 32px;\n",
              "    }\n",
              "\n",
              "    .colab-df-convert:hover {\n",
              "      background-color: #E2EBFA;\n",
              "      box-shadow: 0px 1px 2px rgba(60, 64, 67, 0.3), 0px 1px 3px 1px rgba(60, 64, 67, 0.15);\n",
              "      fill: #174EA6;\n",
              "    }\n",
              "\n",
              "    [theme=dark] .colab-df-convert {\n",
              "      background-color: #3B4455;\n",
              "      fill: #D2E3FC;\n",
              "    }\n",
              "\n",
              "    [theme=dark] .colab-df-convert:hover {\n",
              "      background-color: #434B5C;\n",
              "      box-shadow: 0px 1px 3px 1px rgba(0, 0, 0, 0.15);\n",
              "      filter: drop-shadow(0px 1px 2px rgba(0, 0, 0, 0.3));\n",
              "      fill: #FFFFFF;\n",
              "    }\n",
              "  </style>\n",
              "\n",
              "      <script>\n",
              "        const buttonEl =\n",
              "          document.querySelector('#df-cab5a004-1370-424d-984c-245cfe024574 button.colab-df-convert');\n",
              "        buttonEl.style.display =\n",
              "          google.colab.kernel.accessAllowed ? 'block' : 'none';\n",
              "\n",
              "        async function convertToInteractive(key) {\n",
              "          const element = document.querySelector('#df-cab5a004-1370-424d-984c-245cfe024574');\n",
              "          const dataTable =\n",
              "            await google.colab.kernel.invokeFunction('convertToInteractive',\n",
              "                                                     [key], {});\n",
              "          if (!dataTable) return;\n",
              "\n",
              "          const docLinkHtml = 'Like what you see? Visit the ' +\n",
              "            '<a target=\"_blank\" href=https://colab.research.google.com/notebooks/data_table.ipynb>data table notebook</a>'\n",
              "            + ' to learn more about interactive tables.';\n",
              "          element.innerHTML = '';\n",
              "          dataTable['output_type'] = 'display_data';\n",
              "          await google.colab.output.renderOutput(dataTable, element);\n",
              "          const docLink = document.createElement('div');\n",
              "          docLink.innerHTML = docLinkHtml;\n",
              "          element.appendChild(docLink);\n",
              "        }\n",
              "      </script>\n",
              "    </div>\n",
              "  </div>\n",
              "  "
            ]
          },
          "metadata": {}
        },
        {
          "output_type": "display_data",
          "data": {
            "text/plain": [
              "<Figure size 432x288 with 1 Axes>"
            ],
            "image/png": "[encoded data removed]"
          },
          "metadata": {
            "needs_background": "light"
          }
        }
      ]
    },
    {
      "cell_type": "code",
      "source": [
        "from itertools import islice\n",
        "\n",
        "#Algorithm of assignement of tasks to users: \n",
        "# We need at least one person for a given target => theperson get assigned as task the target for witch the user is the closest\n",
        "# points are proportional to the distance and to the number of persons assigned to the task\n",
        "def getUserPosition(userID):\n",
        "  users = pd.read_csv('/content/drive/MyDrive/HackaTUM_Data/dataset/hackatum_dataset/issues/users.csv')\n",
        "  return users.iloc[userID]['x'],users.iloc[userID]['y']\n",
        "\n",
        "def getTaskPosition(taksId):\n",
        "  tasks = pd.read_csv('/content/drive/MyDrive/HackaTUM_Data/dataset/hackatum_dataset/issues/issues.csv')\n",
        "  return tasks.iloc[taksId]['longitude'],tasks.iloc[taksId]['latitude']\n",
        "\n",
        "def getTasksPos():\n",
        "  df = pd.read_csv('/content/drive/MyDrive/HackaTUM_Data/dataset/hackatum_dataset/issues/issues.csv')\n",
        "  xtasks = df['longitude'].values\n",
        "  ytasks = df['latitude'].values\n",
        "  return xtasks,ytasks\n",
        "\n",
        "def getUsersPos():\n",
        "  df = pd.read_csv('/content/drive/MyDrive/HackaTUM_Data/dataset/hackatum_dataset/issues/users.csv')\n",
        "  xUsers = df['x'].values\n",
        "  yUsers = df['y'].values\n",
        "  return xUsers,yUsers\n",
        "\n",
        "def get_distances(userID,userX,userY,xtasks,ytasks):\n",
        "  distancesx = [(x-userX)**2 for x in xtasks]\n",
        "  distancesy = [(y-userY)**2 for y in ytasks]\n",
        "  distances = [np.sqrt(distancesx[i] + distancesy[i]) for i in range(len(distancesx))] \n",
        "  return {(userID,i):distances[i] for i in range(len(distancesx))}\n",
        "\n",
        "def get_Closest_user(xtasks,ytasks,xUsers,yUsers):\n",
        "  closest = np.empty(len(xtasks))\n",
        "  for i in range(len(xtasks)):\n",
        "    distances = get_distances(i,xtasks[i],ytasks[i],xUsers,yUsers)\n",
        "    min_index = min(distances, key=distances.get)[1]\n",
        "    closest[i] = min_index\n",
        "  return closest\n",
        "\n",
        "\n",
        "\n",
        "#If user is the closest to a givent task he gets it\n",
        "# Then user get closest task\n",
        "def get_N_closest_task_ID(userID,N):\n",
        "  def take(n, iterable):\n",
        "    \"Return first n items of the iterable as a list\"\n",
        "    return list(islice(iterable, n))\n",
        "  x,y = getUserPosition(userID)\n",
        "  xtasks,ytasks = getTasksPos()\n",
        "  distances = get_distances(userID,x,y,xtasks,ytasks)\n",
        "  sortedItems = dict(sorted(distances.items(), key=lambda item: item[1]))\n",
        "  return [i[0][1] for i in take(N, sortedItems.items())]\n",
        "\n",
        "def get_N_closest_task_position(userID,N):\n",
        "  ids = get_N_closest_task_ID(userID,N)\n",
        "  xtasks,ytasks = getTasksPos()\n",
        "  return [(xtasks[i],ytasks[i]) for i in ids]\n",
        "\n",
        "\n",
        "def getTaskPosition(taksId):\n",
        "  tasks = pd.read_csv('/content/drive/MyDrive/HackaTUM_Data/dataset/hackatum_dataset/issues/issues.csv')\n",
        "  return tasks.iloc[taksId]['longitude'],tasks.iloc[taksId]['latitude']\n",
        "\n",
        "def get_Closest_user(xtasks,ytasks,xUsers,yUsers):\n",
        "  closest = np.empty(len(xtasks))\n",
        "  for i in range(len(xtasks)):\n",
        "    distances = get_distances(i,xtasks[i],ytasks[i],xUsers,yUsers)\n",
        "    min_index = min(distances, key=distances.get)[1]\n",
        "    closest[i] = min_index\n",
        "  return closest\n",
        "\n",
        "def assignBestTask(userID):\n",
        "  xtasks,ytasks = getTasksPos()\n",
        "  xUsers,yUsers = getUsersPos()\n",
        "  closest = get_Closest_user(xtasks,ytasks,xUsers,yUsers)\n",
        "  if userID in closest:\n",
        "    return list(closest).index(userID)\n",
        "  else:\n",
        "    return get_N_closest_task_ID(userID,1)\n",
        "\n",
        "def assignBestTaskPosition(userID):\n",
        "  Issueid = assignBestTask(userID)\n",
        "  return getTaskPosition(Issueid)\n",
        "\n",
        "def getNextStory():\n",
        "  taksId = randrange(29)\n",
        "  Longitude, Latitude = getTaskPosition(taksId)\n",
        "  geolocator = Nominatim(user_agent=\"geoapiExercises\")\n",
        "  location = geolocator.reverse(str(Latitude)+\",\"+str(Longitude))\n",
        "  place = ','.join(str(location).split(',')[:2])\n",
        "  text = pd.read_csv('/content/drive/MyDrive/HackaTUM_Data/dataset/hackatum_dataset/stories.csv')\n",
        "  curr = int(text.values[0])\n",
        "  toreturn = text.iloc[curr]\n",
        "  curr += 1\n",
        "  if curr > 4:\n",
        "    text.iloc[0] = str(1)\n",
        "  else:\n",
        "    text.iloc[0] = str(curr)\n",
        "  text.to_csv('/content/drive/MyDrive/HackaTUM_Data/dataset/hackatum_dataset/stories.csv',index = False)\n",
        "  return toreturn.values[0].replace('*', place)"
      ],
      "metadata": {
        "id": "u0KcFRaN-c7H"
      },
      "execution_count": 87,
      "outputs": []
    },
    {
      "cell_type": "code",
      "source": [
        "getNextStory()"
      ],
      "metadata": {
        "colab": {
          "base_uri": "https://localhost:8080/",
          "height": 54
        },
        "id": "K5oIG-kCRj-8",
        "outputId": "c2f824a1-385f-4f37-dcec-c2bcd3a3cb4f"
      },
      "execution_count": 88,
      "outputs": [
        {
          "output_type": "execute_result",
          "data": {
            "text/plain": [
              "'    Here begins our story, in the life of Jack Alden, I will tell you all the information collected by the police by listening to the parties involved in this story. A day like any other, twenty-five years ago, a postman named Jack Alden woke up at his house at 178a, Tegernseer Landstraße, unaware that his day was not going to go as planned.'"
            ],
            "application/vnd.google.colaboratory.intrinsic+json": {
              "type": "string"
            }
          },
          "metadata": {},
          "execution_count": 88
        }
      ]
    },
    {
      "cell_type": "code",
      "source": [
        "getUserPosition(0)"
      ],
      "metadata": {
        "colab": {
          "base_uri": "https://localhost:8080/"
        },
        "id": "SDc2A3EVVn3z",
        "outputId": "9498a280-f94a-44f0-c83d-25f5582a3cbe"
      },
      "execution_count": 77,
      "outputs": [
        {
          "output_type": "execute_result",
          "data": {
            "text/plain": [
              "(11.583718278219312, 48.104305203563214)"
            ]
          },
          "metadata": {},
          "execution_count": 77
        }
      ]
    },
    {
      "cell_type": "code",
      "source": [
        "get_N_closest_task_ID(0,3)"
      ],
      "metadata": {
        "colab": {
          "base_uri": "https://localhost:8080/"
        },
        "id": "DtfW2I0vXEAk",
        "outputId": "571753e5-8577-41e0-8250-d9750727f1d6"
      },
      "execution_count": null,
      "outputs": [
        {
          "output_type": "execute_result",
          "data": {
            "text/plain": [
              "[18, 6, 0]"
            ]
          },
          "metadata": {},
          "execution_count": 8
        }
      ]
    },
    {
      "cell_type": "code",
      "source": [
        "get_N_closest_task_position(0,3)"
      ],
      "metadata": {
        "colab": {
          "base_uri": "https://localhost:8080/"
        },
        "id": "uKXb2E03Zm0k",
        "outputId": "5cea121e-815e-42c0-e173-c24781406548"
      },
      "execution_count": null,
      "outputs": [
        {
          "output_type": "execute_result",
          "data": {
            "text/plain": [
              "[(11.5873091, 48.104692400000005),\n",
              " (11.5806306, 48.106241100000005),\n",
              " (11.61430161647961, 48.111355593621)]"
            ]
          },
          "metadata": {},
          "execution_count": 9
        }
      ]
    },
    {
      "cell_type": "code",
      "source": [
        "from io import StringIO\n",
        "str0 = '1'\n",
        "str1 = 'Here begins our story, in the life of Jack Alden, I will tell you all the information collected by the police by listening to the parties involved in this story. A day like any other, twenty-five years ago, a postman named Jack Alden woke up at his house at *, unaware that his day was not going to go as planned.'\n",
        "str2 = 'Once he reached the McHenry house to deliver a package at *, Jack parked on the dirt road, accidentally hitting a tire on the garden hose. shortly after getting out of the car, having retrieved the parcel from the trunk and having walked towards the house, Jack noticed the water hose, but he did not give it importance as he heard Mrs. McHencry lying on the floor by the stove.'\n",
        "str3 = 'Jack rushed to her, he says and was trying to revive her when Mr. McHenry came through the door of the garage. McHenry had taken the day off to water his backyard garden. He had been hosing down his flowerbeds and hedges for half an hour when he noticed the truck in his garage. He walked over to investigate.'\n",
        "TESTDATA = StringIO(\"\"\"text;\n",
        "    1;\n",
        "    Here begins our story, in the life of Jack Alden, I will tell you all the information collected by the police by listening to the parties involved in this story. A day like any other, twenty-five years ago, a postman named Jack Alden woke up at his house at *, unaware that his day was not going to go as planned.;\n",
        "    Once he reached the McHenry house to deliver a package at *, Jack parked on the dirt road, accidentally hitting a tire on the garden hose. shortly after getting out of the car, having retrieved the parcel from the trunk and having walked towards the house, Jack noticed the water hose, but he did not give it importance as he heard Mrs. McHencry lying on the floor by the stove.;\n",
        "    Jack rushed to her, he says and was trying to revive her when Mr. McHenry came through the door of the garage. McHenry had taken the day off to water his backyard garden. He had been hosing down his flowerbeds and hedges for half an hour when he noticed the truck in his garage. He walked over to investigate.;\n",
        "    Solution: McHenry, while throttling his wife, had been surprised by the arrival of the deliveryman and had hurried to the backyard and his alibi of hosing his garden.  Had he been there all the time, he would have investigated why the water stopped flowing. The truck wheels were parked on the garden hose for \"about two minutes,\" remember?; \n",
        "    \"\"\")\n",
        "\n",
        "df = pd.read_csv(TESTDATA, sep=\";\")['text']\n",
        "df.to_csv('/content/drive/MyDrive/HackaTUM_Data/dataset/hackatum_dataset/stories.csv',index = False)"
      ],
      "metadata": {
        "id": "tX8qIN8HPEHR"
      },
      "execution_count": 86,
      "outputs": []
    },
    {
      "cell_type": "code",
      "source": [
        "xtasks,ytasks = getTasksPos()\n",
        "print(xtasks,ytasks)"
      ],
      "metadata": {
        "colab": {
          "base_uri": "https://localhost:8080/"
        },
        "id": "W_wqlWdibMqK",
        "outputId": "6e0c8690-8856-4cba-d61d-3bd414b1eb36"
      },
      "execution_count": null,
      "outputs": [
        {
          "output_type": "stream",
          "name": "stdout",
          "text": [
            "[11.61430162 11.60624828 11.63329946 11.58813361 11.57078418 11.60678544\n",
            " 11.5806306  11.61335148 11.62267447 11.60864568 11.5478052  11.62379202\n",
            " 11.61900312 11.60673963 11.62046124 11.61593237 11.61818098 11.61683318\n",
            " 11.5873091  11.60369552 11.61529242 11.52520632 11.60141149 11.54952702\n",
            " 11.61898739 11.62413511 11.54121727 11.61764815 11.61310693 11.52796554] [48.11135559 48.17566584 48.13569263 48.17653048 48.14912076 48.17607553\n",
            " 48.1062411  48.13046701 48.1616343  48.17242088 48.11291669 48.16265466\n",
            " 48.1180315  48.1760482  48.12177303 48.11290549 48.11925484 48.16881682\n",
            " 48.1046924  48.17208671 48.112113   48.14868645 48.17179651 48.16089515\n",
            " 48.11835267 48.16302274 48.10089803 48.11503274 48.17299008 48.14774795]\n"
          ]
        }
      ]
    },
    {
      "cell_type": "code",
      "source": [
        "assignBestTask(0)"
      ],
      "metadata": {
        "colab": {
          "base_uri": "https://localhost:8080/"
        },
        "id": "p9egqWZKFcOy",
        "outputId": "3d64d96c-fd38-4506-aebf-389d8937cfed"
      },
      "execution_count": null,
      "outputs": [
        {
          "output_type": "execute_result",
          "data": {
            "text/plain": [
              "6"
            ]
          },
          "metadata": {},
          "execution_count": 21
        }
      ]
    },
    {
      "cell_type": "code",
      "source": [
        "assignBestTaskPosition(0)"
      ],
      "metadata": {
        "colab": {
          "base_uri": "https://localhost:8080/"
        },
        "id": "qW6vY3jLK5Nz",
        "outputId": "58d2f8c3-ece3-469b-eb10-4c0cd01132aa"
      },
      "execution_count": null,
      "outputs": [
        {
          "output_type": "execute_result",
          "data": {
            "text/plain": [
              "(11.5806306, 48.106241100000005)"
            ]
          },
          "metadata": {},
          "execution_count": 23
        }
      ]
    },
    {
      "cell_type": "code",
      "source": [
        "len( pd.read_csv('/content/drive/MyDrive/HackaTUM_Data/dataset/hackatum_dataset/issues/issues.csv'))"
      ],
      "metadata": {
        "colab": {
          "base_uri": "https://localhost:8080/"
        },
        "id": "6m_67AOcy2fO",
        "outputId": "65e1d6a0-10c4-41a9-9e2a-64ae891e1841"
      },
      "execution_count": 67,
      "outputs": [
        {
          "output_type": "execute_result",
          "data": {
            "text/plain": [
              "30"
            ]
          },
          "metadata": {},
          "execution_count": 67
        }
      ]
    },
    {
      "cell_type": "code",
      "source": [
        "from geopy.geocoders import Nominatim\n",
        "from random import randrange\n",
        "\n",
        "taksId = randrange(29)\n",
        "Longitude, Latitude = getTaskPosition(taksId)\n",
        "geolocator = Nominatim(user_agent=\"geoapiExercises\")\n",
        "location = geolocator.reverse(str(Latitude)+\",\"+str(Longitude))\n",
        "print(','.join(str(location).split(',')[:2]))"
      ],
      "metadata": {
        "id": "ViYPQG87MoyV",
        "colab": {
          "base_uri": "https://localhost:8080/"
        },
        "outputId": "6a5344a1-ab4d-4280-e364-ce9fbfb6a06a"
      },
      "execution_count": 72,
      "outputs": [
        {
          "output_type": "stream",
          "name": "stdout",
          "text": [
            "Innsbrucker Ring, Ramersdorf\n"
          ]
        }
      ]
    }
  ]
}